{
 "cells": [
  {
   "cell_type": "code",
   "execution_count": null,
   "id": "7ab8d82b",
   "metadata": {},
   "outputs": [],
   "source": [
    "!pip install vertexai"
   ]
  },
  {
   "cell_type": "code",
   "execution_count": null,
   "id": "782ecc00",
   "metadata": {},
   "outputs": [],
   "source": [
    "project_name = \"<your-project-name>\""
   ]
  },
  {
   "cell_type": "code",
   "execution_count": null,
   "id": "07f3962b",
   "metadata": {},
   "outputs": [],
   "source": [
    "import vertexai\n",
    "from vertexai.preview.language_models import TextGenerationModel, ChatModel, InputOutputTextPair\n",
    "\n",
    "def predict_large_language_model_sample(\n",
    "    project_id: str,\n",
    "    model_name: str,\n",
    "    temperature: float,\n",
    "    max_decode_steps: int,\n",
    "    top_p: float,\n",
    "    top_k: int,\n",
    "    content: str,\n",
    "    location: str = \"us-central1\",\n",
    "    tuned_model_name: str = \"\",\n",
    "    ) :\n",
    "    \"\"\"Predict using a Large Language Model.\"\"\"\n",
    "    vertexai.init(project=project_id, location=location)\n",
    "    \n",
    "    model = TextGenerationModel.from_pretrained(model_name)\n",
    "    if tuned_model_name:\n",
    "        model = model.get_tuned_model(tuned_model_name)\n",
    "    response = model.predict(\n",
    "        content,\n",
    "        temperature=temperature,\n",
    "        max_output_tokens=max_decode_steps,\n",
    "        top_k=top_k,\n",
    "        top_p=top_p,)\n",
    "        \n",
    "    print(f\"Response from Model: {response.text}\")"
   ]
  },
  {
   "cell_type": "markdown",
   "id": "2e300b16",
   "metadata": {},
   "source": [
    "# Ad Copy Generation"
   ]
  },
  {
   "cell_type": "code",
   "execution_count": null,
   "id": "fdad2675",
   "metadata": {},
   "outputs": [],
   "source": [
    "predict_large_language_model_sample(project_name, \"text-bison@001\", 0.2, 1024, 0.8, 40, '''For each of the following categories, create 3 one-sentence ad copies using the product description provided.\n",
    "\n",
    "Categories:\n",
    "- Scarcity\n",
    "- Loss-Aversion\n",
    "- Appeal to Ego\n",
    "- Exclusivity\n",
    "- Gain-Seeking\n",
    "- Luxury\n",
    "- Social Proof\n",
    "- Influencer Proof\n",
    "- Positive Association\n",
    "- Negative Association\n",
    "\n",
    "Product description: \"The iPhone 14 and iPhone 14 Plus (also stylized as iPhone 14+) are smartphones designed, developed, and marketed by Apple Inc.\"''', \"us-central1\")\n"
   ]
  },
  {
   "cell_type": "markdown",
   "id": "d121092a",
   "metadata": {},
   "source": [
    "#  Title generation"
   ]
  },
  {
   "cell_type": "code",
   "execution_count": null,
   "id": "450ea8a9",
   "metadata": {},
   "outputs": [],
   "source": [
    "predict_large_language_model_sample(project_name, \"text-bison@001\", 0.2, 256, 0.95, 40, '''\n",
    "Article: Yellowstone National Park is an American national park located in the western United States, largely in the northwest corner of Wyoming and extending into Montana and Idaho. It was established by the 42nd U.S. Congress with the Yellowstone National Park Protection Act and signed into law by President Ulysses S. Grant on March 1, 1872. Yellowstone was the first national park in the U.S. and is also widely held to be the first national park in the world. The park is known for its wildlife and its many geothermal features, especially the Old Faithful geyser, one of its most popular. While it represents many types of biomes, the subalpine forest is the most abundant. It is part of the South Central Rockies forests ecoregion.\n",
    "The title of above article can be: Yellowstone National Park: A Natural Wonder\n",
    "\n",
    "Article: As many businesses figure out new ways to go digital, one thing is clear: talent continues to be one of the key ways to enable an inclusive digital economy. Employers in Asia Pacific list technology as the leading in-demand skill, with digital marketing and e-commerce following close behind. Simultaneously, many people are looking to learn new skills that will help them meet the requirements of the evolving job market. So we must create new ways to help businesses and job seekers alike.\n",
    "The title of above article can be: How to Prepare for the Digital Economy\n",
    "\n",
    "Article: STEM Minds empowers K-12 students worldwide to reach their full potential as self-directed, life-long learners. As we grow our team, we\\'ll continue to work closely with Google for Startups experts and Google for Startups Accelerator Canada advisors to further expand our AI/ML tech stack, develop additional educational solutions, and launch STEM Minds in new markets.\n",
    "The title of above article can be: STEM Minds: Empowering K-12 Students Worldwide\n",
    "\n",
    "Article: As human beings, we learn from our personal experiences and from each other. We often share what we\\'ve learned and rework systems based on failures we\\'ve encountered. While our robots don\\'t communicate with each other, this research shows that we can successfully combine datasets from different types of robots and transfer behaviors across them. In fact, our research shows that by combining data from different robots we\\'re able to nearly double the model\\'s ability to generalize to a new scene. That means that as we continue to experiment with different robots and new tasks, we may be able to augment the training data to improve robot behavior, making it a flexible and scalable approach to robot learning.\n",
    "The title of above article can be:\n",
    "''', \"us-central1\")"
   ]
  },
  {
   "cell_type": "markdown",
   "id": "37962c15",
   "metadata": {},
   "source": [
    "# Pirate Talks"
   ]
  },
  {
   "cell_type": "code",
   "execution_count": null,
   "id": "04bbe5a6",
   "metadata": {},
   "outputs": [],
   "source": [
    "predict_large_language_model_sample(project_name, \"text-bison@001\", 0.8, 1024, 0.95, 40, '''\n",
    "hi friend, how are you? How would a pirate say this?''', \"us-central1\")\n",
    "\n",
    "predict_large_language_model_sample(project_name, \"text-bison@001\", 0.8, 1024, 0.95, 40, '''\n",
    "Learn as if you will live forever, live like you will die tomorrow. How would a pirate say this?''', \"us-central1\")\n"
   ]
  },
  {
   "cell_type": "markdown",
   "id": "356f7069",
   "metadata": {},
   "source": [
    "# Chat agent summarization"
   ]
  },
  {
   "cell_type": "code",
   "execution_count": null,
   "id": "1e280a27",
   "metadata": {},
   "outputs": [],
   "source": [
    "predict_large_language_model_sample(project_name, \"text-bison@001\", 0.2, 1024, 0.8, 40, '''Summarize the following conversation from the Agent\\'s perspective:\n",
    "Agent: Thank you for calling Google Cloud Support. How may I assist you today?\n",
    "\n",
    "Customer: Hi, I am trying to create a Google Cloud account and use the free credits, but I am not sure where to start.\n",
    "\n",
    "Agent: Sure, I can definitely help you with that. May I know if you already have a Google account?\n",
    "\n",
    "Customer: Yes, I do.\n",
    "\n",
    "Agent: Great. The first step would be to sign in to the Google Cloud Console. Do you know how to access it?\n",
    "\n",
    "Customer: No, I don\\'t. Can you guide me?\n",
    "\n",
    "Agent: Sure. Please go to console.cloud.google.com and sign in with your Google account credentials. Once you are signed in, you will be directed to the Google Cloud Console dashboard.\n",
    "\n",
    "Customer: Okay, I have signed in. What should I do next?\n",
    "\n",
    "Agent: Now, you\\'ll need to create a project. A project is a collection of resources, such as Compute Engine instances and Cloud Storage buckets. To create a project, click on the \"Projects\" tab and then click on the \"Create project\" button. You\\'ll need to provide a name for your project and then select a region. Once you\\'ve created your project, you\\'ll be able to start using the free credits.\n",
    "\n",
    "Customer: Great, I\\'ve created my project. Now what?\n",
    "\n",
    "Agent: Now, you\\'ll need to enable the free trial. To do this, click on the \"Billing\" tab and then click on the \"Enable free trial\" button. You\\'ll need to provide your credit card information and then click on the \"Submit\" button.\n",
    "\n",
    "Customer: Alright, I think I can do that.\n",
    "\n",
    "Agent: Excellent. You\\'ve now successfully created a Google Cloud account. You can start using the free credits that are available by clicking on the \"Credits\" tab.\n",
    "\n",
    "Customer: That sounds easy enough. How much free credit do I get?\n",
    "\n",
    "Agent: You\\'ll receive $300 worth of free credit that you can use on any Google Cloud services for up to 12 months.\n",
    "\n",
    "Customer: Is there anything else I should know?\n",
    "\n",
    "Agent: Yes, just be sure to keep an eye on your usage during your free trial period. Once your credits are used up, you\\'ll start being charged for any additional usage. But don\\'t worry, you\\'ll receive notifications when you\\'re approaching your credit limit.\n",
    "\n",
    "Customer: Thank you so much for your help!\n",
    "\n",
    "Agent: You\\'re welcome. Is there anything else I can help you with today?\n",
    "\n",
    "Customer: No, that\\'s all. Thank you again!\n",
    "\n",
    "Agent: You\\'re welcome. Have a great day and enjoy using Google Cloud!''', \"us-central1\")"
   ]
  },
  {
   "cell_type": "markdown",
   "id": "69966c4f",
   "metadata": {},
   "source": [
    "# Object classification"
   ]
  },
  {
   "cell_type": "code",
   "execution_count": null,
   "id": "38054704",
   "metadata": {},
   "outputs": [],
   "source": [
    "print(\"Text: Recliner\")\n",
    "predict_large_language_model_sample(project_name, \"text-bison@001\", 0.2, 5, 0.8, 1, \n",
    "                                    '''Multi-choice problem: What is the category of the object?\n",
    "- dog\n",
    "- cat\n",
    "- cow\n",
    "- goat\n",
    "- table\n",
    "- chair\n",
    "\n",
    "Text: Recliner\n",
    "The answer is:''', \"us-central1\")\n",
    "\n",
    "print()\n",
    "print(\"Text: Husky\")\n",
    "predict_large_language_model_sample(project_name, \"text-bison@001\", 0.2, 5, 0.8, 1, \n",
    "                                    '''Multi-choice problem: What is the category of the object?\n",
    "- dog\n",
    "- cat\n",
    "- cow\n",
    "- goat\n",
    "- table\n",
    "- chair\n",
    "\n",
    "Text: Husky\n",
    "The answer is:''', \"us-central1\")"
   ]
  },
  {
   "cell_type": "markdown",
   "id": "3e1d3d37",
   "metadata": {},
   "source": [
    "# Text Analysis"
   ]
  },
  {
   "cell_type": "code",
   "execution_count": null,
   "id": "1aaad434",
   "metadata": {},
   "outputs": [],
   "source": [
    "print(\"Question: name the characters\")\n",
    "context = \"\"\" Harry Potter is a series of seven fantasy novels written by British author J. K. Rowling. The novels chronicle the lives of a young wizard, Harry Potter, and his friends Hermione Granger and Ron Weasley, all of whom are students at Hogwarts School of Witchcraft and Wizardry. The main story arc concerns Harry\\'s conflict with Lord Voldemort, a dark wizard who intends to become immortal, overthrow the wizard governing body known as the Ministry of Magic and subjugate all wizards and Muggles (non-magical people).\n",
    "\n",
    "The series was originally published in English by Bloomsbury in the United Kingdom and Scholastic Press in the United States. All versions around the world are printed by Grafica Veneta in Italy.[1] A series of many genres, including fantasy, drama, coming-of-age fiction, and the British school story (which includes elements of mystery, thriller, adventure, horror, and romance), the world of Harry Potter explores numerous themes and includes many cultural meanings and references.[2] According to Rowling, the main theme is death.[3] Other major themes in the series include prejudice, corruption, and madness.[4]\n",
    "\n",
    "Since the release of the first novel, Harry Potter and the Philosopher\\'s Stone, on 26 June 1997, the books have found immense popularity, positive reviews, and commercial success worldwide. They have attracted a wide adult audience as well as younger readers and are widely considered cornerstones of modern literature.[5][6] As of February 2023, the books have sold more than 600 million copies worldwide, making them the best-selling book series in history, and have been available in 85 languages.[7] The last four books consecutively set records as the fastest-selling books in history, with the final instalment selling roughly 2.7 million copies in the United Kingdom and 8.3 million copies in the United States within twenty-four hours of its release.\n",
    "\n",
    "The original seven books were adapted into an eight-part namesake film series by Warner Bros. Pictures. In 2016, the total value of the Harry Potter franchise was estimated at $25 billion,[8] making Harry Potter one of the highest-grossing media franchises of all time. Harry Potter and the Cursed Child is a play based on a story co-written by Rowling.\n",
    "\n",
    "The success of the books and films has allowed the Harry Potter franchise to expand with numerous derivative works, a travelling exhibition that premiered in Chicago in 2009, a studio tour in London that opened in 2012, a digital platform on which J. K. Rowling updates the series with new information and insight, and a pentalogy of spin-off films premiering in November 2016 with Fantastic Beasts and Where to Find Them, among many other developments. Themed attractions, collectively known as The Wizarding World of Harry Potter, have been built at several Universal Destinations & Experiences amusement parks around the world.\"\"\"\n",
    "predict_large_language_model_sample(project_name, \"text-bison@001\", 0.2, 256, 0.8, 40, f'''Answer the question based on the context below. Extract the exact full sentence that contains the answer. If the question cannot be answered using the information provided answer with “I do not know about this”\n",
    "\n",
    "Context: {context}\n",
    "Question: name the characters\n",
    "Answer:\n",
    "''', \"us-central1\")\n",
    "\n",
    "print()\n",
    "print(\"Question: when was the first book released?\")\n",
    "predict_large_language_model_sample(project_name, \"text-bison@001\", 0.2, 256, 0.8, 40, f'''Answer the question based on the context below. Extract the exact full sentence that contains the answer. If the question cannot be answered using the information provided answer with “I do not know about this”\n",
    "\n",
    "Context: {context}\n",
    "Question: when was the first book released?\n",
    "Answer:\n",
    "''', \"us-central1\")\n",
    "\n",
    "print()\n",
    "print(\"Question: estimated worth of harry potter books?\")\n",
    "predict_large_language_model_sample(project_name, \"text-bison@001\", 0.2, 256, 0.8, 40, f'''Answer the question based on the context below. Extract the exact full sentence that contains the answer. If the question cannot be answered using the information provided answer with “I do not know about this”\n",
    "\n",
    "Context: {context}\n",
    "\n",
    "Question: estimated worth of harry potter books?\n",
    "Answer:\n",
    "''', \"us-central1\")"
   ]
  },
  {
   "cell_type": "markdown",
   "id": "8e67d393",
   "metadata": {},
   "source": [
    "# Email writing"
   ]
  },
  {
   "cell_type": "code",
   "execution_count": null,
   "id": "79f735d7",
   "metadata": {},
   "outputs": [],
   "source": [
    "predict_large_language_model_sample(project_name, \"text-bison@001\", 0.2, 256, 0.95, 40,\n",
    "                                    '''Write an email thanking the participants to listening to your talk''', \"us-central1\")"
   ]
  },
  {
   "cell_type": "markdown",
   "id": "87e031f1",
   "metadata": {},
   "source": [
    "# Social Media Post"
   ]
  },
  {
   "cell_type": "code",
   "execution_count": null,
   "id": "76084ab3",
   "metadata": {},
   "outputs": [],
   "source": [
    "predict_large_language_model_sample(project_name, \"text-bison@001\", 0.2, 256, 0.95, 40,\n",
    "'''Write a short Social media post after i have given a talk on generative AI using model garden and Generative AI studio''', \"us-central1\")"
   ]
  },
  {
   "cell_type": "markdown",
   "id": "f8595ca0",
   "metadata": {},
   "source": [
    "# SQL Queries"
   ]
  },
  {
   "cell_type": "code",
   "execution_count": null,
   "id": "55ceb112",
   "metadata": {},
   "outputs": [],
   "source": [
    "predict_large_language_model_sample(project_name, \"text-bison@001\", 0.2, 256, 0.95, 40,\n",
    "'''write a sql query to get the max salary of employees from all departments''', \"us-central1\")\n",
    "print()\n",
    "\n",
    "predict_large_language_model_sample(project_name, \"text-bison@001\", 0.2, 256, 0.95, 40,\n",
    "'''write a sql query to get the max salary of employees from each departments''', \"us-central1\")\n",
    "print()\n",
    "\n",
    "predict_large_language_model_sample(project_name, \"text-bison@001\", 0.2, 256, 0.95, 40,\n",
    "'''write a sql query to get the max salary of employees from each departments and get the department name from departments table''', \"us-central1\")\n",
    "print()\n"
   ]
  },
  {
   "cell_type": "markdown",
   "id": "0efc8ea4",
   "metadata": {},
   "source": [
    "# MongoDB Queries"
   ]
  },
  {
   "cell_type": "code",
   "execution_count": null,
   "id": "68727c22",
   "metadata": {},
   "outputs": [],
   "source": [
    "predict_large_language_model_sample(project_name, \"text-bison@001\", 0.2, 256, 0.95, 40,\n",
    "'''write a MongoDB query to get the max salary of employees from each departments and get the department name from departments table''', \"us-central1\")"
   ]
  },
  {
   "cell_type": "markdown",
   "id": "89dcbea4",
   "metadata": {},
   "source": [
    "# Roast Someone with a witty comeback"
   ]
  },
  {
   "cell_type": "code",
   "execution_count": null,
   "id": "39987f9d",
   "metadata": {},
   "outputs": [],
   "source": [
    "predict_large_language_model_sample(project_name, \"text-bison@001\", 0.9, 1024, 0.95, 40,\n",
    "\"\"\"Someone says \"Stuck in an error from last half an hour. 😭😭\n",
    "\n",
    "But I'll not sleep till I resolve this. \". Make a short and rude Roast\"\"\", \"us-central1\")"
   ]
  },
  {
   "cell_type": "code",
   "execution_count": null,
   "id": "edd9400c",
   "metadata": {},
   "outputs": [],
   "source": []
  },
  {
   "cell_type": "code",
   "execution_count": null,
   "id": "e1a32f22",
   "metadata": {},
   "outputs": [],
   "source": []
  }
 ],
 "metadata": {
  "kernelspec": {
   "display_name": "Python 3 (ipykernel)",
   "language": "python",
   "name": "python3"
  },
  "language_info": {
   "codemirror_mode": {
    "name": "ipython",
    "version": 3
   },
   "file_extension": ".py",
   "mimetype": "text/x-python",
   "name": "python",
   "nbconvert_exporter": "python",
   "pygments_lexer": "ipython3",
   "version": "3.8.0"
  }
 },
 "nbformat": 4,
 "nbformat_minor": 5
}
