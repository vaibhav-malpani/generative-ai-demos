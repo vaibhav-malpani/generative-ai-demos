{
 "cells": [
  {
   "cell_type": "code",
   "execution_count": null,
   "id": "088a862d",
   "metadata": {},
   "outputs": [],
   "source": [
    "!pip install \"git+https://github.com/ai-forever/Kandinsky-2.git\"\n",
    "!pip install openai-clip\n",
    "!pip install opencv-python"
   ]
  },
  {
   "cell_type": "code",
   "execution_count": null,
   "id": "86cc0f55",
   "metadata": {},
   "outputs": [],
   "source": [
    "from kandinsky2 import get_kandinsky2\n",
    "from IPython.display import display # to display images\n",
    "\n",
    "prompt = \"Unicorn spongebob\"\n",
    "\n",
    "model = get_kandinsky2('cuda', task_type='text2img', model_version='2.1', use_flash_attention=False)\n",
    "images = model.generate_text2img(\n",
    "    prompt,\n",
    "    num_steps=100,\n",
    "    batch_size=1,\n",
    "    guidance_scale=4,\n",
    "    h=720, w=1280,\n",
    "    sampler='p_sampler',\n",
    "    prior_cf_scale=4,\n",
    "    prior_steps=\"5\"\n",
    ")\n",
    "display(images[0])"
   ]
  },
  {
   "cell_type": "code",
   "execution_count": null,
   "id": "b119b472",
   "metadata": {},
   "outputs": [],
   "source": [
    "images[0].save(prompt+\".png\")\n"
   ]
  }
 ],
 "metadata": {
  "kernelspec": {
   "display_name": "Python 3 (ipykernel)",
   "language": "python",
   "name": "python3"
  },
  "language_info": {
   "codemirror_mode": {
    "name": "ipython",
    "version": 3
   },
   "file_extension": ".py",
   "mimetype": "text/x-python",
   "name": "python",
   "nbconvert_exporter": "python",
   "pygments_lexer": "ipython3",
   "version": "3.8.0"
  }
 },
 "nbformat": 4,
 "nbformat_minor": 5
}
